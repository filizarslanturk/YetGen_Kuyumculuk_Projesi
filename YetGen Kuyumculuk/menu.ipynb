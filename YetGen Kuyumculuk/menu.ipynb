{
 "cells": [
  {
   "attachments": {},
   "cell_type": "markdown",
   "metadata": {},
   "source": [
    "<h1 style=\"text-align:center; margin-right:50px;\">YETGEN KUYUMCULUK SİSTEMİ</h1>\n",
    "\n",
    "### Hazırlayanlar:\n",
    "- Ahmet Kılıç ~ Yıldız Teknik Üniversitesi ~ Fen Bilgisi Öğretmenliği\n",
    "- Filiz Arslantürk Yıldız Teknik Üniversitesi ~ Endüstri Mühendisliği \n",
    "- Aslı ...                ...            ~ Endüstri Mühendisliği \n",
    "\n",
    "\n",
    "\n",
    "# Niçin Yapıldı?\n",
    "- Bizler bu projeyi YetGen Core Python Eğitim Pogramı kapsamında 13. hafta bitirme projesi olarak hayata geçirdik. Bizler esasında bu projede kuyumcuların hayatını kolaylaştırmayı amaçladık. Kuyumcuların; müşterilerin getirdiği altın, gümüş ve elmas ürünlerine fiyat biçerken zorlandığı ve her kuyumcunun hesap makinesi kullanarak uzun matematik işlemlerinin arasında kaybolduğunu gözlemledik. Kuyumcular, önceden belirledikleri fiyat biçme metotlarıyla her müşteri için ayrı ayrı hesaplama yaparak fazlaca zaman kaybediyorlardı. Bu proje kuyumcuları tüm bu hesaplamalardan ve zaman kaybından kurtarmaktadır. Aşağıda projede istedenen bazı değişkenlerin kullanım kılavuzu verilmiştir.\n",
    "\n",
    "# Pırlanta Kılavuz:\n",
    "\n",
    "### 1-) Kesime Göre = ['Fair', 'Good', 'Very Good', 'Premium', 'Ideal']\n",
    "![kesim](https://www.armpirlanta.com/Images/Grafik/28112014193440.jpeg)\n",
    "\n",
    "\n",
    "### 2-) Renge Göre = ['J', 'I', 'H', 'G', 'F', 'E', 'D']\n",
    "![renk](https://www.siriuspirlanta.com/siriustema/icerik/pirlanta-renk-skalasi.jpg)\n",
    "\n",
    "\n",
    "### 3-) Berraklığa Göre ['I1', 'SI2', 'SI1', 'VS2', 'VS1', 'VVS2', 'VVS1', 'IF']\n",
    "![berraklık](https://www.siriuspirlanta.com/siriustema/icerik/pirlanta-berraklik-dereceleri.jpg)"
   ]
  },
  {
   "cell_type": "code",
   "execution_count": 1,
   "metadata": {},
   "outputs": [
    {
     "name": "stdout",
     "output_type": "stream",
     "text": [
      "\u001b[35m\u001b[2m*****************************************\u001b[0m\n",
      "\u001b[36m\u001b[1mYetGen Kuyumculuk Sistemi'ne Hoş Geldiniz\u001b[0m\n",
      "\u001b[35m\u001b[2m*****************************************\u001b[0m\n",
      "Hangi maden için işlem yapmak istersiniz?\n",
      "1. Altın\n",
      "2. Elmas\n",
      "3. Gümüş\n",
      "4. Çıkış\n",
      "\n",
      ".·.Program kapatılıyor.·.\n",
      "Program kapandı.\n"
     ]
    }
   ],
   "source": [
    "import time\n",
    "from colorama import Fore, Style\n",
    "while True:\n",
    "    print(Fore.MAGENTA + Style.DIM + \"*****************************************\" + Style.RESET_ALL)\n",
    "    print(Fore.CYAN + Style.BRIGHT + \"YetGen Kuyumculuk Sistemi'ne Hoş Geldiniz\" + Style.RESET_ALL)\n",
    "    print(Fore.MAGENTA + Style.DIM + \"*****************************************\" + Style.RESET_ALL)\n",
    "    print(\"Hangi maden için işlem yapmak istersiniz?\\n1. Altın\\n2. Elmas\\n3. Gümüş\\n4. Çıkış\\n\")\n",
    "    secim = input(\"Seçiminiz:\")\n",
    "    try:\n",
    "        if secim == \"1\":\n",
    "            %run altin.ipynb\n",
    "            break\n",
    "        elif secim == \"2\":\n",
    "            %run elmas.ipynb\n",
    "            break\n",
    "        elif secim== \"3\":\n",
    "            %run gumus.ipynb\n",
    "            break\n",
    "        elif secim== \"4\":\n",
    "            print(\".·.Program kapatılıyor.·.\")\n",
    "            time.sleep(2)\n",
    "            print(\"Program kapandı.\")\n",
    "            break\n",
    "        else:\n",
    "            print(Fore.RED + Style.DIM + \"Geçerli olmayan giriş yaptınız! Lütfen tekrar deneyin.\" + Style.RESET_ALL)\n",
    "    except:\n",
    "        print(Fore.RED + Style.DIM + \"Bir hata oluştu. Lütfen tekrar deneyiniz.\" + Style.RESET_ALL)\n"
   ]
  }
 ],
 "metadata": {
  "kernelspec": {
   "display_name": "Python 3",
   "language": "python",
   "name": "python3"
  },
  "language_info": {
   "codemirror_mode": {
    "name": "ipython",
    "version": 3
   },
   "file_extension": ".py",
   "mimetype": "text/x-python",
   "name": "python",
   "nbconvert_exporter": "python",
   "pygments_lexer": "ipython3",
   "version": "3.11.3"
  },
  "orig_nbformat": 4
 },
 "nbformat": 4,
 "nbformat_minor": 2
}
